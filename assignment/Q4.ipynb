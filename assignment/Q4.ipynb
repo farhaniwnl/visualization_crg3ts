{
 "cells": [
  {
   "cell_type": "code",
   "execution_count": 3,
   "metadata": {},
   "outputs": [
    {
     "name": "stdout",
     "output_type": "stream",
     "text": [
      "In the methodology document, which can be found in \"assignment\\data\\DSD_MCD_R22_Methodology_WDDSE 508.pdf\", it explains that drugs with fewer than a certain number of claims are excluded to avoid skewing the average spending per dosage unit. Moreover, it details a methodology for identifying outliers based on statistical thresholds and flags them for cautious interpretation. This outlier flag is set to “1” when a drug's average spending per dosage unit is substantially impacted by outlier records in a given year. Neither the methodology or data dictionary defines how missing values are treated for numeric and categorical variables, the methodology only defines the outlier flag and the bounds for it to be used. However, other than defining missing data, the data dictionary is well-structured and detailed, covering each variable with clear definitions and explanations.\n"
     ]
    }
   ],
   "source": [
    "print(\"In the methodology document, which can be found in \\\"assignment\\data\\DSD_MCD_R22_Methodology_WDDSE 508.pdf\\\", it explains that drugs with fewer than a certain number of claims are excluded to avoid skewing the average spending per dosage unit. Moreover, it details a methodology for identifying outliers based on statistical thresholds and flags them for cautious interpretation. This outlier flag is set to “1” when a drug's average spending per dosage unit is substantially impacted by outlier records in a given year. Neither the methodology or data dictionary defines how missing values are treated for numeric and categorical variables, the methodology only defines the outlier flag and the bounds for it to be used. However, other than defining missing data, the data dictionary is well-structured and detailed, covering each variable with clear definitions and explanations.\")"
   ]
  },
  {
   "cell_type": "code",
   "execution_count": null,
   "metadata": {},
   "outputs": [],
   "source": []
  }
 ],
 "metadata": {
  "kernelspec": {
   "display_name": "Python 3",
   "language": "python",
   "name": "python3"
  },
  "language_info": {
   "codemirror_mode": {
    "name": "ipython",
    "version": 3
   },
   "file_extension": ".py",
   "mimetype": "text/x-python",
   "name": "python",
   "nbconvert_exporter": "python",
   "pygments_lexer": "ipython3",
   "version": "3.10.11"
  }
 },
 "nbformat": 4,
 "nbformat_minor": 2
}
